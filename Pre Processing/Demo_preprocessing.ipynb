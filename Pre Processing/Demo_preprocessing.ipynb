{
 "cells": [
  {
   "cell_type": "code",
   "execution_count": 1,
   "metadata": {
    "scrolled": true
   },
   "outputs": [
    {
     "name": "stdout",
     "output_type": "stream",
     "text": [
      "    Country   Age   Salary Purchased\n",
      "0    France  44.0  72000.0        No\n",
      "1     Spain  27.0  48000.0       Yes\n",
      "2   Germany  30.0  54000.0        No\n",
      "3     Spain  38.0  61000.0        No\n",
      "4   Germany  40.0      NaN       Yes\n",
      "5    France  35.0  58000.0       Yes\n",
      "6     Spain   NaN  52000.0        No\n",
      "7    France  48.0  79000.0       NaN\n",
      "8   Germany  50.0  83000.0        No\n",
      "9    France  37.0  67000.0       Yes\n",
      "10   France   NaN  72000.0        No\n",
      "11    Spain  27.0  48000.0       Yes\n",
      "12  Germany  30.0  54000.0        No\n",
      "13    Spain   NaN  61000.0        No\n",
      "14  Germany  40.0     21.0       Yes\n",
      "15   France  35.0  58000.0       Yes\n",
      "16    Spain   NaN  52000.0        No\n",
      "17   France  48.0      NaN       NaN\n",
      "18  Germany  50.0  83000.0        No\n",
      "19   France  37.0  67000.0       Yes\n",
      "\n",
      "\n",
      "Before handling missing values:\n",
      " Country      0\n",
      "Age          4\n",
      "Salary       2\n",
      "Purchased    2\n",
      "dtype: int64\n"
     ]
    }
   ],
   "source": [
    "# Import necessary libraries\n",
    "import pandas as pd\n",
    "from sklearn.preprocessing import StandardScaler\n",
    "\n",
    "# Load the dataset\n",
    "data = pd.read_csv('Data.csv') \n",
    "print(data)\n",
    "\n",
    "# 1. Handle Missing Values\n",
    "print(\"\\n\\nBefore handling missing values:\\n\", data.isnull().sum()) \n"
   ]
  },
  {
   "cell_type": "code",
   "execution_count": 2,
   "metadata": {},
   "outputs": [
    {
     "name": "stdout",
     "output_type": "stream",
     "text": [
      "\n",
      "After handling missing values:\n",
      " Country      0\n",
      "Age          4\n",
      "Salary       0\n",
      "Purchased    2\n",
      "dtype: int64\n"
     ]
    }
   ],
   "source": [
    "\n",
    "# Fill missing values with the mean of the 'Salary' column without using inplace\n",
    "data['Salary'] = data['Salary'].fillna(data['Salary'].mean())\n",
    "\n",
    "print(\"\\nAfter handling missing values:\\n\", data.isnull().sum())\n"
   ]
  },
  {
   "cell_type": "code",
   "execution_count": 3,
   "metadata": {},
   "outputs": [],
   "source": [
    "# 2. Handle Outliers (Example: Using IQR)\n",
    "Q1 = data['Salary'].quantile(0.25)\n",
    "Q3 = data['Salary'].quantile(0.75)\n",
    "IQR = Q3 - Q1\n",
    "\n",
    "lower_bound = Q1 - 1.5 * IQR\n",
    "upper_bound = Q3 + 1.5 * IQR"
   ]
  },
  {
   "cell_type": "code",
   "execution_count": 4,
   "metadata": {},
   "outputs": [],
   "source": [
    "# Filter out outliers\n",
    "data = data[(data['Salary'] >= lower_bound) & (data['Salary'] <= upper_bound)]"
   ]
  },
  {
   "cell_type": "code",
   "execution_count": 5,
   "metadata": {},
   "outputs": [],
   "source": [
    "# 4. Feature Scaling\n",
    "scaler = StandardScaler()\n",
    "data['Salary'] = scaler.fit_transform(data[['Salary']])"
   ]
  },
  {
   "cell_type": "code",
   "execution_count": 6,
   "metadata": {},
   "outputs": [],
   "source": [
    "# 5. Split Data (If necessary)\n",
    "X = data[['Salary']]  # Features\n",
    "y = data['Purchased']  # Target variable"
   ]
  },
  {
   "cell_type": "code",
   "execution_count": 7,
   "metadata": {},
   "outputs": [
    {
     "name": "stdout",
     "output_type": "stream",
     "text": [
      "\n",
      "Preprocessed Data:\n",
      "   Country   Age    Salary Purchased\n",
      "0   France  44.0  0.884790        No\n",
      "1    Spain  27.0 -1.353944       Yes\n",
      "2  Germany  30.0 -0.794260        No\n",
      "3    Spain  38.0 -0.141296        No\n",
      "4  Germany  40.0 -0.291473       Yes\n"
     ]
    }
   ],
   "source": [
    "# Print the preprocessed data\n",
    "print(\"\\nPreprocessed Data:\")\n",
    "print(data.head())"
   ]
  }
 ],
 "metadata": {
  "kernelspec": {
   "display_name": "venv",
   "language": "python",
   "name": "python3"
  },
  "language_info": {
   "codemirror_mode": {
    "name": "ipython",
    "version": 3
   },
   "file_extension": ".py",
   "mimetype": "text/x-python",
   "name": "python",
   "nbconvert_exporter": "python",
   "pygments_lexer": "ipython3",
   "version": "3.11.0"
  }
 },
 "nbformat": 4,
 "nbformat_minor": 4
}
